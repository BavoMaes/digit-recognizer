{
 "cells": [
  {
   "cell_type": "code",
   "execution_count": 12,
   "metadata": {},
   "outputs": [],
   "source": [
    "# Deze uitwerking van de opdracht is gebaseerd op volgend artikel:\n",
    "# Özbek, Abdullah Furkan. (2019). How to Train a Model with MNIST dataset. https://medium.com/@afozbek_/how-to-train-a-model-with-mnist-dataset-d79f8123ba84 "
   ]
  },
  {
   "cell_type": "code",
   "execution_count": 19,
   "metadata": {},
   "outputs": [],
   "source": [
    "# Import needed modules\n",
    "import numpy as np\n",
    "import matplotlib.pyplot as plt\n",
    "import random\n",
    "import pandas as pd\n",
    "\n",
    "# Keras modules\n",
    "import keras\n",
    "from keras.models import Sequential\n",
    "from keras.datasets import mnist\n",
    "from keras.layers import Dense\n",
    "from keras.optimizers import Adam\n",
    "from keras.utils import to_categorical"
   ]
  },
  {
   "cell_type": "code",
   "execution_count": 20,
   "metadata": {},
   "outputs": [],
   "source": [
    "# Read training data\n",
    "raw_data = pd.read_csv(\"train.csv\")\n",
    "\n",
    "# Convert to numpy array\n",
    "data = raw_data[0:21000].to_numpy()"
   ]
  },
  {
   "cell_type": "code",
   "execution_count": 43,
   "metadata": {},
   "outputs": [
    {
     "name": "stdout",
     "output_type": "stream",
     "text": [
      "Model: \"sequential_24\"\n",
      "_________________________________________________________________\n",
      "Layer (type)                 Output Shape              Param #   \n",
      "=================================================================\n",
      "dense_89 (Dense)             (None, 10)                7850      \n",
      "_________________________________________________________________\n",
      "dense_90 (Dense)             (None, 50)                550       \n",
      "_________________________________________________________________\n",
      "dense_91 (Dense)             (None, 10)                510       \n",
      "=================================================================\n",
      "Total params: 8,910\n",
      "Trainable params: 8,910\n",
      "Non-trainable params: 0\n",
      "_________________________________________________________________\n",
      "None\n",
      "Train on 18900 samples, validate on 2100 samples\n",
      "Epoch 1/10\n",
      "18900/18900 [==============================] - 2s 97us/step - loss: 0.9072 - acc: 0.7136 - val_loss: 0.4572 - val_acc: 0.8619\n",
      "Epoch 2/10\n",
      "18900/18900 [==============================] - 1s 34us/step - loss: 0.3641 - acc: 0.8946 - val_loss: 0.3185 - val_acc: 0.9043\n",
      "Epoch 3/10\n",
      "18900/18900 [==============================] - 1s 33us/step - loss: 0.2902 - acc: 0.9144 - val_loss: 0.2816 - val_acc: 0.9133\n",
      "Epoch 4/10\n",
      "18900/18900 [==============================] - 1s 33us/step - loss: 0.2512 - acc: 0.9237 - val_loss: 0.2568 - val_acc: 0.9171\n",
      "Epoch 5/10\n",
      "18900/18900 [==============================] - 1s 33us/step - loss: 0.2230 - acc: 0.9331 - val_loss: 0.2477 - val_acc: 0.9190\n",
      "Epoch 6/10\n",
      "18900/18900 [==============================] - 1s 34us/step - loss: 0.2101 - acc: 0.9354 - val_loss: 0.2382 - val_acc: 0.9243\n",
      "Epoch 7/10\n",
      "18900/18900 [==============================] - 1s 31us/step - loss: 0.1916 - acc: 0.9410 - val_loss: 0.2339 - val_acc: 0.9257\n",
      "Epoch 8/10\n",
      "18900/18900 [==============================] - 1s 34us/step - loss: 0.1776 - acc: 0.9466 - val_loss: 0.2248 - val_acc: 0.9333\n",
      "Epoch 9/10\n",
      "18900/18900 [==============================] - 1s 34us/step - loss: 0.1684 - acc: 0.9488 - val_loss: 0.2293 - val_acc: 0.9286\n",
      "Epoch 10/10\n",
      "18900/18900 [==============================] - 1s 34us/step - loss: 0.1581 - acc: 0.9525 - val_loss: 0.2505 - val_acc: 0.9267\n",
      "[0.7135978829726656, 0.8945502682968423, 0.9144444465637207, 0.9237037080305593, 0.9330687831949305, 0.9354497336205982, 0.9410052860855426, 0.9466137586447297, 0.9488359781169386, 0.9525396741887249]\n"
     ]
    },
    {
     "data": {
      "image/png": "[encoded data removed]",
      "text/plain": [
       "<Figure size 432x288 with 1 Axes>"
      ]
     },
     "metadata": {
      "needs_background": "light"
     },
     "output_type": "display_data"
    }
   ],
   "source": [
    "classes = 10\n",
    "pixels = 784\n",
    "\n",
    "train = data[0:21000, 1:]\n",
    "train = train / 255\n",
    "labels = to_categorical(data[0:21000, 0], 10)\n",
    "\n",
    "def create_model():\n",
    "  model = Sequential()\n",
    "  model.add(Dense(10, input_dim = pixels, activation = 'relu'))\n",
    "  model.add(Dense(50, activation='relu'))\n",
    "  model.add(Dense(classes, activation='softmax'))\n",
    "  model.compile(Adam(lr=0.01), loss='categorical_crossentropy', metrics=['accuracy'])\n",
    "  return model\n",
    "\n",
    "model = create_model()\n",
    "print(model.summary())\n",
    "\n",
    "history = model.fit(train, labels, epochs = 10, validation_split=0.1, batch_size= 500, verbose=1, shuffle=1)\n",
    "\n",
    "plt.plot(history.history['acc'])\n",
    "plt.plot(history.history['val_acc'])\n",
    "plt.legend(['acc', 'val_acc'])\n",
    "plt.title('Accuracy')\n",
    "plt.xlabel('epoch')\n",
    "\n",
    "print(history.history['acc'])"
   ]
  },
  {
   "cell_type": "code",
   "execution_count": null,
   "metadata": {},
   "outputs": [],
   "source": []
  }
 ],
 "metadata": {
  "kernelspec": {
   "display_name": "Python 3",
   "language": "python",
   "name": "python3"
  },
  "language_info": {
   "codemirror_mode": {
    "name": "ipython",
    "version": 3
   },
   "file_extension": ".py",
   "mimetype": "text/x-python",
   "name": "python",
   "nbconvert_exporter": "python",
   "pygments_lexer": "ipython3",
   "version": "3.7.3"
  }
 },
 "nbformat": 4,
 "nbformat_minor": 2
}
